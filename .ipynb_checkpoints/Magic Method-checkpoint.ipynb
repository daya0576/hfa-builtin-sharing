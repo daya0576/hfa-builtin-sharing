{
 "cells": [
  {
   "cell_type": "code",
   "execution_count": 5,
   "metadata": {
    "collapsed": true
   },
   "outputs": [],
   "source": [
    "DEBUG=True\n",
    "\n",
    "def p(msg):\n",
    "    if DEBUG:\n",
    "        print(\"..{0}\".format(msg))"
   ]
  },
  {
   "cell_type": "code",
   "execution_count": 16,
   "metadata": {
    "collapsed": false
   },
   "outputs": [
    {
     "name": "stdout",
     "output_type": "stream",
     "text": [
      "Today is Friday!\n",
      "Friday\n"
     ]
    }
   ],
   "source": [
    "# 1. str 和 repr\n",
    "\n",
    "class Fri(object): \n",
    "    def __repr__(object): \n",
    "        return 'Friday'\n",
    "    \n",
    "    def __str__(self):\n",
    "        return 'Today is Friday!'\n",
    "    \n",
    "f = Fri()\n",
    "print(repr(f))\n",
    "print(str(f))\n",
    "\n",
    "\n",
    "\n",
    "\n",
    "\n",
    "# 那么问题来了, str 和 repr 的**区别**在什么地方呢?\n",
    "# http://stackoverflow.com/questions/1436703/difference-between-str-and-repr-in-python\n",
    "# http://trdcaz.github.io/posts/2017/03/Difference-between-str-and-repr-in-Python.html"
   ]
  },
  {
   "cell_type": "code",
   "execution_count": 8,
   "metadata": {
    "collapsed": false
   },
   "outputs": [
    {
     "name": "stdout",
     "output_type": "stream",
     "text": [
      "..9\n",
      "..12.8\n",
      "..Peter Pan\n",
      "..[3, 6, 8, 7, 11, 13]\n"
     ]
    }
   ],
   "source": [
    "# 2. Classes That Act Like Numbers\n",
    "\n",
    "p(4 + 5)\n",
    "p(3.8 + 9)\n",
    "p(\"Peter\" + \" \" + \"Pan\")\n",
    "p([3,6,8] + [7,11,13])"
   ]
  },
  {
   "cell_type": "code",
   "execution_count": 9,
   "metadata": {
    "collapsed": false
   },
   "outputs": [
    {
     "ename": "SyntaxError",
     "evalue": "invalid syntax (<ipython-input-9-14d7d2dae111>, line 1)",
     "output_type": "error",
     "traceback": [
      "\u001b[1;36m  File \u001b[1;32m\"<ipython-input-9-14d7d2dae111>\"\u001b[1;36m, line \u001b[1;32m1\u001b[0m\n\u001b[1;33m    Operator         Method\u001b[0m\n\u001b[1;37m                          ^\u001b[0m\n\u001b[1;31mSyntaxError\u001b[0m\u001b[1;31m:\u001b[0m invalid syntax\n"
     ]
    }
   ],
   "source": [
    "Operator         Method\n",
    "+                object.__add__(self, other)\n",
    "-                object.__sub__(self, other)\n",
    "*                object.__mul__(self, other)\n",
    "//               object.__floordiv__(self, other)\n",
    "/                object.__div__(self, other)\n",
    "%                object.__mod__(self, other)\n",
    "**               object.__pow__(self, other[, modulo])\n",
    "<<               object.__lshift__(self, other)\n",
    ">>               object.__rshift__(self, other)\n",
    "&                object.__and__(self, other)\n",
    "^                object.__xor__(self, other)\n",
    "|                object.__or__(self, other)"
   ]
  },
  {
   "cell_type": "code",
   "execution_count": 17,
   "metadata": {
    "collapsed": false
   },
   "outputs": [
    {
     "name": "stdout",
     "output_type": "stream",
     "text": [
      "..True\n",
      "..True\n",
      "..False\n"
     ]
    }
   ],
   "source": [
    "# 3. Comparison magic methods\n",
    "\n",
    "class Word(str):\n",
    "    '''Class for words, defining comparison based on word length.'''\n",
    "\n",
    "    def __new__(cls, word):\n",
    "        # Note that we have to use __new__. This is because str is an immutable\n",
    "        # type, so we have to initialize it early (at creation)\n",
    "        return str.__new__(cls, word)\n",
    "    \n",
    "    def __eq__(self, other):\n",
    "        return len(self) == len(other)\n",
    "    \n",
    "    def __gt__(self, other):\n",
    "        return len(self) > len(other)\n",
    "    \n",
    "    def __lt__(self, other):\n",
    "        return len(self) < len(other)\n",
    "    \n",
    "    def __ge__(self, other):\n",
    "        return len(self) >= len(other)\n",
    "    \n",
    "    def __le__(self, other):\n",
    "        return len(self) <= len(other)\n",
    "    \n",
    "p(Word('foo') == Word('bar'))\n",
    "p(Word('fool') >= Word('bar'))\n",
    "p(Word('Friday') < Word('bar'))"
   ]
  },
  {
   "cell_type": "code",
   "execution_count": null,
   "metadata": {
    "collapsed": true
   },
   "outputs": [],
   "source": [
    "# 4. Attibute\n",
    "\n",
    "class Person(name):\n",
    "    def __init__(self, name):\n",
    "        self.name = name\n",
    "        \n",
    "    def __setattr__(self, name, value):\n",
    "        self.name = value\n",
    "\n",
    "    def __getattr__(self, name, value):\n",
    "        return self.name\n"
   ]
  }
 ],
 "metadata": {
  "kernelspec": {
   "display_name": "Python [py35]",
   "language": "python",
   "name": "Python [py35]"
  },
  "language_info": {
   "codemirror_mode": {
    "name": "ipython",
    "version": 3
   },
   "file_extension": ".py",
   "mimetype": "text/x-python",
   "name": "python",
   "nbconvert_exporter": "python",
   "pygments_lexer": "ipython3",
   "version": "3.5.2"
  }
 },
 "nbformat": 4,
 "nbformat_minor": 0
}
