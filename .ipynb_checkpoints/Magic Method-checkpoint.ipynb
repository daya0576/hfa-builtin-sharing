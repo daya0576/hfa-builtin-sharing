{
 "cells": [
  {
   "cell_type": "code",
   "execution_count": 4,
   "metadata": {
    "collapsed": true
   },
   "outputs": [],
   "source": [
    "DEBUG=True\n",
    "\n",
    "def p(msg):\n",
    "    if DEBUG:\n",
    "        print(\"..{0}\".format(msg))"
   ]
  },
  {
   "cell_type": "code",
   "execution_count": 112,
   "metadata": {
    "collapsed": false
   },
   "outputs": [
    {
     "name": "stdout",
     "output_type": "stream",
     "text": [
      "Friday\n",
      "Today is Friday!\n"
     ]
    }
   ],
   "source": [
    "# 1. str 和 repr\n",
    "\n",
    "class Fri(object): \n",
    "    def __repr__(object): \n",
    "        return 'Friday'\n",
    "    \n",
    "    def __str__(self):\n",
    "        return 'Today is Friday!'\n",
    "    \n",
    "f = Fri()\n",
    "print(repr(f))\n",
    "print(f) # 等同print(str(f))\n"
   ]
  },
  {
   "cell_type": "code",
   "execution_count": null,
   "metadata": {
    "collapsed": true
   },
   "outputs": [],
   "source": [
    "# 那么问题来了, str 和 repr 的**区别**在什么地方呢?\n",
    "# http://trdcaz.github.io/posts/2017/03/Difference-between-str-and-repr-in-Python.html\n",
    "_repr__ goal is to be unambiguous\n",
    "__str__ goal is to be readable\n",
    "\n",
    "str()\n",
    "    输出提供给用户\n",
    "    使对象更具可读性\n",
    "\n",
    "repr()\n",
    "    输出提供给开发\n",
    "    尽可能的还原对象"
   ]
  },
  {
   "cell_type": "code",
   "execution_count": 9,
   "metadata": {
    "collapsed": false
   },
   "outputs": [
    {
     "name": "stdout",
     "output_type": "stream",
     "text": [
      "..9\n",
      "..12.8\n",
      "..Peter Pan\n",
      "..[3, 6, 8, 7, 11, 13]\n",
      "..{1, 3}\n"
     ]
    }
   ],
   "source": [
    "# 2. Classes That Act Like Numbers\n",
    "\n",
    "p(4 + 5)\n",
    "p(3.8 + 9)\n",
    "p(\"Peter\" + \" \" + \"Pan\")\n",
    "p([3,6,8] + [7,11,13])\n",
    "p({1, 2, 3} - {2, 4})"
   ]
  },
  {
   "cell_type": "code",
   "execution_count": 9,
   "metadata": {
    "collapsed": false
   },
   "outputs": [
    {
     "ename": "SyntaxError",
     "evalue": "invalid syntax (<ipython-input-9-14d7d2dae111>, line 1)",
     "output_type": "error",
     "traceback": [
      "\u001b[1;36m  File \u001b[1;32m\"<ipython-input-9-14d7d2dae111>\"\u001b[1;36m, line \u001b[1;32m1\u001b[0m\n\u001b[1;33m    Operator         Method\u001b[0m\n\u001b[1;37m                          ^\u001b[0m\n\u001b[1;31mSyntaxError\u001b[0m\u001b[1;31m:\u001b[0m invalid syntax\n"
     ]
    }
   ],
   "source": [
    "Operator         Method\n",
    "+                object.__add__(self, other)\n",
    "-                object.__sub__(self, other)\n",
    "*                object.__mul__(self, other)\n",
    "//               object.__floordiv__(self, other)\n",
    "/                object.__div__(self, other)\n",
    "%                object.__mod__(self, other)\n",
    "**               object.__pow__(self, other[, modulo])\n",
    "<<               object.__lshift__(self, other)\n",
    ">>               object.__rshift__(self, other)\n",
    "&                object.__and__(self, other)\n",
    "^                object.__xor__(self, other)\n",
    "|                object.__or__(self, other)"
   ]
  },
  {
   "cell_type": "code",
   "execution_count": 23,
   "metadata": {
    "collapsed": false
   },
   "outputs": [
    {
     "name": "stdout",
     "output_type": "stream",
     "text": [
      "..True\n",
      "..True\n",
      "..False\n"
     ]
    }
   ],
   "source": [
    "# 3. Comparison magic methods\n",
    "\n",
    "class Word(str):\n",
    "    '''Class for words, defining comparison based on word length.'''\n",
    "\n",
    "    def __new__(cls, word):\n",
    "        # Note that we have to use __new__. This is because str is an immutable\n",
    "        # type, so we have to initialize it early (at creation)\n",
    "        return str.__new__(cls, word)\n",
    "    \n",
    "    def __eq__(self, other):\n",
    "        return len(self) == len(other)\n",
    "    \n",
    "    def __gt__(self, other):\n",
    "        return len(self) > len(other)\n",
    "    \n",
    "    def __lt__(self, other):\n",
    "        return len(self) < len(other)\n",
    "    \n",
    "    def __ge__(self, other):\n",
    "        return len(self) >= len(other)\n",
    "    \n",
    "    def __le__(self, other):\n",
    "        return len(self) <= len(other)\n",
    "    \n",
    "p(Word('foo') == Word('bar'))\n",
    "p(Word('fool') >= Word('bar'))\n",
    "p(Word('Friday') < Word('bar'))"
   ]
  },
  {
   "cell_type": "code",
   "execution_count": 58,
   "metadata": {
    "collapsed": false
   },
   "outputs": [
    {
     "name": "stdout",
     "output_type": "stream",
     "text": [
      "..new..\n",
      "..initializing..\n",
      "..Plz dont delete me..\n",
      "..Did u call me?\n"
     ]
    }
   ],
   "source": [
    "# 4. 类的构造和初始化\n",
    "class Report:\n",
    "    def __new__(cls):\n",
    "        # 在创建对象时调用，返回当前对象的一个实例。第一个参数是cls即class本身。\n",
    "        # 生产部经理, 决定是否将原料提供给该生产部工人\n",
    "        p('new..')\n",
    "        return super(Report,cls).__new__(cls)\n",
    "    \n",
    "    def __init__(self,*args,**kwargs):\n",
    "        # 在创建完对象后调用，可以进行对象实例的初始化操作，\n",
    "        #     无返回值。第一个参数是self，表示实例对象。\n",
    "        # 工人, 将原料加工成实例以供工厂出货\n",
    "        p('initializing..')\n",
    "    \n",
    "    def __call__(self):\n",
    "        p('Did u call me?')\n",
    "    \n",
    "    def __del__(self):\n",
    "        p('Plz dont delete me..')\n",
    "    \n",
    "report = Report()\n",
    "report()\n"
   ]
  },
  {
   "cell_type": "code",
   "execution_count": 110,
   "metadata": {
    "collapsed": false
   },
   "outputs": [
    {
     "name": "stdout",
     "output_type": "stream",
     "text": [
      "Huangjun 0\n",
      "Daya 1\n"
     ]
    }
   ],
   "source": [
    "# 5. Attibute\n",
    "\n",
    "class Person(object):\n",
    "    def __init__(self, name):\n",
    "        super(Person, self).__setattr__('counter', 0)\n",
    "        super(Person, self).__setattr__('name', name)\n",
    "        \n",
    "    def __getattr__(self, name):\n",
    "        v = object.__getattribute__(self, name)\n",
    "        print(v)\n",
    "    \n",
    "\n",
    "    def __setattr__(self, name, value):\n",
    "        # self.name = value\n",
    "        # 每当属性被赋值的时候， ``__setattr__()`` 会被调用，\n",
    "        # 这样就造成了递归调用, 造成程序崩溃。\n",
    "\n",
    "        super(Person, self).__setattr__(name, value)\n",
    "        super(Person, self).__setattr__('counter', self.counter + 1)\n",
    "\n",
    "    def __str__(self):\n",
    "        return self.name\n",
    "\n",
    "\n",
    "a = Person('Huangjun')\n",
    "print(a.name, a.counter)\n",
    "\n",
    "a.name = 'Daya'\n",
    "print(a.name, a.counter)"
   ]
  },
  {
   "cell_type": "code",
   "execution_count": null,
   "metadata": {
    "collapsed": true
   },
   "outputs": [],
   "source": []
  }
 ],
 "metadata": {
  "kernelspec": {
   "display_name": "Python [py35]",
   "language": "python",
   "name": "Python [py35]"
  },
  "language_info": {
   "codemirror_mode": {
    "name": "ipython",
    "version": 3
   },
   "file_extension": ".py",
   "mimetype": "text/x-python",
   "name": "python",
   "nbconvert_exporter": "python",
   "pygments_lexer": "ipython3",
   "version": "3.5.2"
  }
 },
 "nbformat": 4,
 "nbformat_minor": 0
}
