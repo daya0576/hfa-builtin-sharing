{
 "cells": [
  {
   "cell_type": "code",
   "execution_count": 22,
   "metadata": {
    "collapsed": false
   },
   "outputs": [
    {
     "name": "stdout",
     "output_type": "stream",
     "text": [
      "The Zen of Python, by Tim Peters\n",
      "\n",
      "Beautiful is better than ugly.\n",
      "Explicit is better than implicit.\n",
      "Simple is better than complex.\n",
      "Complex is better than complicated.\n",
      "Flat is better than nested.\n",
      "Sparse is better than dense.\n",
      "Readability counts.\n",
      "Special cases aren't special enough to break the rules.\n",
      "Although practicality beats purity.\n",
      "Errors should never pass silently.\n",
      "Unless explicitly silenced.\n",
      "In the face of ambiguity, refuse the temptation to guess.\n",
      "There should be one-- and preferably only one --obvious way to do it.\n",
      "Although that way may not be obvious at first unless you're Dutch.\n",
      "Now is better than never.\n",
      "Although never is often better than *right* now.\n",
      "If the implementation is hard to explain, it's a bad idea.\n",
      "If the implementation is easy to explain, it may be a good idea.\n",
      "Namespaces are one honking great idea -- let's do more of those!\n"
     ]
    }
   ],
   "source": [
    "import this"
   ]
  },
  {
   "cell_type": "code",
   "execution_count": 21,
   "metadata": {
    "collapsed": false
   },
   "outputs": [
    {
     "name": "stdout",
     "output_type": "stream",
     "text": [
      "True\n",
      "True\n"
     ]
    }
   ],
   "source": [
    "# all()/any():\n",
    "\n",
    "r1 = all(c == 't' for c in 'ttt')\n",
    "r2 = any([0, False, '', 0.0, [1], {}])\n",
    "\n",
    "print(r1)\n",
    "print(r2)"
   ]
  },
  {
   "cell_type": "code",
   "execution_count": null,
   "metadata": {
    "collapsed": true
   },
   "outputs": [],
   "source": [
    "editable = user.has_permission(tree)\n",
    "editable = True if editable else False\n",
    "\n",
    "\n",
    "\n",
    "\n",
    "\n",
    "\n",
    "\n",
    "\n",
    "\n",
    "\n",
    "\n",
    "# 可以简化为: \n",
    "editable = bool(editable)"
   ]
  },
  {
   "cell_type": "code",
   "execution_count": 23,
   "metadata": {
    "collapsed": false
   },
   "outputs": [
    {
     "name": "stdout",
     "output_type": "stream",
     "text": [
      "ord('a'):\t 97\n",
      "chr(97):\t a\n"
     ]
    }
   ],
   "source": [
    "# chr(i)/ord(c):\n",
    "\n",
    "print(\"ord('a'):\\t\", ord('a'))\n",
    "print(\"chr(97):\\t\", chr(97))"
   ]
  },
  {
   "cell_type": "code",
   "execution_count": 25,
   "metadata": {
    "collapsed": false
   },
   "outputs": [
    {
     "name": "stdout",
     "output_type": "stream",
     "text": [
      "\n",
      "__name__: __main__\n",
      "\n",
      "['test_scope_fuc']\n"
     ]
    }
   ],
   "source": [
    "# dir()\n",
    "\n",
    "local_scope = ''\n",
    "# print(dir())\n",
    "print()\n",
    "\n",
    "print('__name__:', __name__)\n",
    "print()\n",
    "# if __name__ == '__main__':\n",
    "#     pass\n",
    "\n",
    "def test_scope():\n",
    "    test_scope_fuc = ''\n",
    "    print(dir())\n",
    "test_scope()"
   ]
  },
  {
   "cell_type": "code",
   "execution_count": 45,
   "metadata": {
    "collapsed": false
   },
   "outputs": [
    {
     "name": "stdout",
     "output_type": "stream",
     "text": [
      "global x\n",
      "outer x\n",
      "global x\n"
     ]
    }
   ],
   "source": [
    "# LEGB\n",
    "\n",
    "import builtins\n",
    "# print(dir(builtins))\n",
    "\n",
    "x = 'global x'\n",
    "\n",
    "def outer():\n",
    "    x = 'outer x'\n",
    "    print(x)\n",
    "\n",
    "    def inner():\n",
    "        x = 'inner x'\n",
    "\n",
    "print(x)\n",
    "outer()\n",
    "print(x)\n"
   ]
  },
  {
   "cell_type": "code",
   "execution_count": null,
   "metadata": {
    "collapsed": true
   },
   "outputs": [],
   "source": [
    "# divmod(a, b)\n",
    "a = 1000\n",
    "b = 11\n",
    "\n",
    "print((a // b, a % b))\n",
    "print(divmod(a, b))"
   ]
  },
  {
   "cell_type": "code",
   "execution_count": 49,
   "metadata": {
    "collapsed": false
   },
   "outputs": [
    {
     "name": "stdout",
     "output_type": "stream",
     "text": [
      "2\n",
      "4\n"
     ]
    }
   ],
   "source": [
    "# eval(uate)\n",
    "# eval(expression)\n",
    "print(eval('1+1'))\n",
    "x=1\n",
    "print(eval('(x+1)**2'))\n",
    "\n",
    "# 66666.."
   ]
  },
  {
   "cell_type": "code",
   "execution_count": null,
   "metadata": {
    "collapsed": true
   },
   "outputs": [],
   "source": [
    "# execfile(filename)\n",
    "\n",
    "python manage.py shell < filename (??)"
   ]
  },
  {
   "cell_type": "code",
   "execution_count": null,
   "metadata": {
    "collapsed": true
   },
   "outputs": [],
   "source": [
    "# bin/oct/hex\n",
    "\n",
    "print('hex(15)', hex(15))\n",
    "print('oct(15)', oct(15))\n",
    "print('bin(15)', bin(15))"
   ]
  },
  {
   "cell_type": "code",
   "execution_count": 6,
   "metadata": {
    "collapsed": false
   },
   "outputs": [
    {
     "name": "stdout",
     "output_type": "stream",
     "text": [
      "Friday\n"
     ]
    }
   ],
   "source": [
    "# Property\n",
    "# 实现类的只读属性(property)\n",
    "class C(object):\n",
    "    def __init__(self, x):\n",
    "        self._x = x\n",
    "\n",
    "    @property\n",
    "    def x(self):\n",
    "        \"\"\"I'm the 'x' property.\"\"\"\n",
    "        return self._x\n",
    "\n",
    "#     @x.setter\n",
    "#     def x(self, value):\n",
    "#         self._x = value\n",
    "\n",
    "#     @x.deleter\n",
    "#     def x(self):\n",
    "#         del self._x\n",
    "        \n",
    "c = C('Friday')\n",
    "print(c.x)\n",
    "# c.x = 'Saturday'"
   ]
  },
  {
   "cell_type": "code",
   "execution_count": 7,
   "metadata": {
    "collapsed": false
   },
   "outputs": [
    {
     "name": "stdout",
     "output_type": "stream",
     "text": [
      "[('a', 1), ('b', 2), ('c', 3)]\n"
     ]
    }
   ],
   "source": [
    "# zip\n",
    "\n",
    "x = ['a', 'b', 'c']\n",
    "y = [1, 2, 3]\n",
    "\n",
    "# 1. \"压缩\"\n",
    "zipped = list(zip(x, y))\n",
    "print(zipped)\n"
   ]
  },
  {
   "cell_type": "code",
   "execution_count": null,
   "metadata": {
    "collapsed": false
   },
   "outputs": [],
   "source": [
    "print(dict(zipped), end='\\n\\n')\n",
    "\n",
    "\n",
    "# 2. \"解压\"\n",
    "x, y = zip(*zipped)\n",
    "# x, y = zip(('a', 1), ('b', 2), ('c', 3))\n",
    "print(x)\n",
    "print(y)\n"
   ]
  },
  {
   "cell_type": "code",
   "execution_count": 16,
   "metadata": {
    "collapsed": false
   },
   "outputs": [
    {
     "name": "stdout",
     "output_type": "stream",
     "text": [
      "<class 'int'>\n",
      "<class 'int'>\n",
      "<class 'float'>\n",
      "<class 'complex'>\n"
     ]
    }
   ],
   "source": [
    "# 数字类型\n",
    "\n",
    "# Q: int 范围:\n",
    "print\n",
    "\n",
    "print(type(int(eval(\"2**63 - 1\")))) # -2^(64-1) <-> 2^(64-1))\n",
    "print(type(int(eval(\"2**63\"))))\n",
    "print(type(1.1))\n",
    "print(type(complex('1+2j'))) # j是一个虚数单位\n"
   ]
  },
  {
   "cell_type": "code",
   "execution_count": null,
   "metadata": {
    "collapsed": false
   },
   "outputs": [],
   "source": [
    "hash([])\n",
    "# Traceback (most recent call last):\n",
    "#   File \"<stdin>\", line 1, in <module>\n",
    "# TypeError: unhashable type: 'list'\n"
   ]
  },
  {
   "cell_type": "code",
   "execution_count": 18,
   "metadata": {
    "collapsed": false
   },
   "outputs": [
    {
     "name": "stdout",
     "output_type": "stream",
     "text": [
      "145358502081223458\n",
      "145358502081223458\n"
     ]
    }
   ],
   "source": [
    "print(hash('0'))\n",
    "print(hash(145358502081223458))\n",
    "\n",
    "# Q: python是如何处理hash冲突的呢? "
   ]
  }
 ],
 "metadata": {
  "kernelspec": {
   "display_name": "Python [py35]",
   "language": "python",
   "name": "Python [py35]"
  },
  "language_info": {
   "codemirror_mode": {
    "name": "ipython",
    "version": 3
   },
   "file_extension": ".py",
   "mimetype": "text/x-python",
   "name": "python",
   "nbconvert_exporter": "python",
   "pygments_lexer": "ipython3",
   "version": "3.5.2"
  }
 },
 "nbformat": 4,
 "nbformat_minor": 0
}
